{
 "cells": [
  {
   "cell_type": "markdown",
   "id": "6266a206-617f-42e0-aaa8-77027ff6d1e3",
   "metadata": {},
   "source": [
    "# Data Preprocessing"
   ]
  },
  {
   "cell_type": "markdown",
   "id": "8720db72-fd8b-42fb-a1ee-69de3c3797e0",
   "metadata": {},
   "source": [
    "### Import useful libraries, some of them should be pip in the current environment (terminal)."
   ]
  },
  {
   "cell_type": "code",
   "execution_count": 1,
   "id": "0c1284b8-dffd-40ac-b003-058aa6d0a209",
   "metadata": {},
   "outputs": [],
   "source": [
    "import re  # regular expression\n",
    "\n",
    "import pandas as pd  # pip \n",
    "import emoji  # pip; turn the emoji into general english words\n",
    "import pysenti  # pip install PySentiStrength; automatically add emotion scores for reviews\n",
    "\n",
    "from langdetect import detect  # pip; Google's language detection tool\n",
    "from tqdm import tqdm  # pip; progress bar\n",
    "import matplotlib.pyplot as plt  # pip"
   ]
  },
  {
   "cell_type": "markdown",
   "id": "1d83b322-0bfb-4d34-afda-0b9df48fc0fe",
   "metadata": {},
   "source": [
    "### Function Abstraction: the common patterns were extracted to avoid code redundancy and verbosity, increasing code reusability."
   ]
  },
  {
   "cell_type": "code",
   "execution_count": 2,
   "id": "bb7b3299-7d13-413a-b80e-206e2a730a83",
   "metadata": {},
   "outputs": [],
   "source": [
    "def view_data(data):\n",
    "    print(\"The shape of data: \", data.shape)\n",
    "    print(\"The first 20 rows: \\n\", data.head(20))\n",
    "\n",
    "\n",
    "def check_NaN(data):\n",
    "    print(\"Checking NaN......\")\n",
    "    nan_exist = data.isna().any(axis=0).any()  # output of \"data.isna().any(axis=0)\"  might be  \"content: True; score: False\"\n",
    "    \n",
    "    if nan_exist:\n",
    "        nan_rows = data[data.isna().any(axis=1)]  # rows\n",
    "        amount = len(nan_rows) # how many NaN review rows the data had\n",
    "\n",
    "        print(\"The NaN rows: \\n{}\\n\\nThe number of rows with NaN: {}\".format(nan_rows, amount))\n",
    "\n",
    "        print(\"Deleting......\")\n",
    "        data.dropna(axis=0, inplace=True)  # drop the rows containing NaN\n",
    "        print(\"These rows with NaN had been removed!\")\n",
    "        \n",
    "    else:\n",
    "        print(\"No NaN data detected\")\n",
    "\n",
    "\n",
    "def turn_emoji_into_word(review):\n",
    "    return emoji.demojize(review)  # turn the emoji into general english words\n",
    "\n",
    "\n",
    "def remove_useless_char(review):\n",
    "    review = re.sub(r'[^a-zA-Z0-9\\.,\\'\\s]', ' ', review)  # keep words+numbers and several special symbols, reducing the difficulty of manually checking\n",
    "    review = re.sub(r'[\\s]+', ' ', review)  # avoid long spacing  ### \"r\" for symbol \"\\\"\n",
    "    review = review.strip()  # format adjustment\n",
    "    return review\n",
    "\n",
    "\n",
    "def is_english(review):\n",
    "    try:\n",
    "        return detect(review) == \"en\"  # Google's language detection tool; \"en\" meant english language\n",
    "    except:\n",
    "        return False\n",
    "\n",
    "\n",
    "def simple_warning_check(data):\n",
    "    warning_amount = (data[\"warn\"].str.contains(\"warning\").sum())  # how many \"warning\" tags the data had\n",
    "    print(\"warning amount:\", warning_amount)\n",
    "    print(\"data amount:\", len(data))\n",
    "    warning_ratio = warning_amount / len(data)  # print the ratio of \"warning\" tags\n",
    "    print(\"The warning ratio was:\", warning_ratio)\n",
    "\n",
    "\n",
    "def draw_distribution(data):\n",
    "    # draw a bar chart to describe the emotion label distribution based on the SentiStrength api\n",
    "    positive_amount = data[data[\"emotion_label\"] == \"positive\"].shape[0]\n",
    "    neutral_amount = data[data[\"emotion_label\"] == \"neutral\"].shape[0]\n",
    "    negative_amount = data[data[\"emotion_label\"] == \"negative\"].shape[0]\n",
    "    \n",
    "    plt.figure(figsize=(8, 6))\n",
    "    bars = plt.bar([\"Positive\", \"Neutral\", \"Negative\"], [positive_amount, neutral_amount, negative_amount], color=[\"green\", \"blue\", \"red\"])\n",
    "    plt.title(\"Emotion Label Distribution based on SentiStrength api\")\n",
    "    plt.xticks([\"Positive\", \"Neutral\", \"Negative\"])\n",
    "    plt.xlabel(\"Categories of reviews\")\n",
    "    plt.ylabel(\"Amount\")\n",
    "    \n",
    "    for bar in bars:\n",
    "        yval = bar.get_height()\n",
    "        plt.text(bar.get_x() + bar.get_width()/2, yval + 5, yval, ha=\"center\", va=\"bottom\")  # show exact digits\n",
    "    plt.show()"
   ]
  },
  {
   "cell_type": "markdown",
   "id": "a15cba08-71b8-47aa-a844-2fd145438200",
   "metadata": {},
   "source": [
    "### Read the raw data."
   ]
  },
  {
   "cell_type": "code",
   "execution_count": 3,
   "id": "40c02043-b02e-435d-aaca-392c7df457fe",
   "metadata": {},
   "outputs": [
    {
     "name": "stdout",
     "output_type": "stream",
     "text": [
      "The shape of data:  (200000, 4)\n",
      "The first 20 rows: \n",
      "                                 reviewId  \\\n",
      "0   c7813790-f22a-439c-be23-f8159e134e0e   \n",
      "1   200df44c-cd5a-452c-a461-6d67a432f942   \n",
      "2   2779a1b2-71bc-4e21-9afb-bc2bd7347330   \n",
      "3   474f7829-54c1-46e0-86b0-917f4fc2cbc4   \n",
      "4   c7f0963c-0e4b-43f0-be11-9b12d4aaaf72   \n",
      "5   17fa5327-ac66-42da-969b-7abacf2af98d   \n",
      "6   dce195ca-3244-410b-b21d-62fb66946989   \n",
      "7   e90d3b5b-3255-4c00-b7e9-2ac813478fdf   \n",
      "8   04b4ce8a-6e97-4f64-84c8-7cd5d2deae2e   \n",
      "9   2b52db84-33b2-4e32-a3d3-f4f614e22cdb   \n",
      "10  7d30f7e6-4f4b-441b-acb5-ce7371b04878   \n",
      "11  7929ca4b-6483-4db3-9b79-dd49444643fc   \n",
      "12  1d8ecd49-eb54-4afe-ab62-a4dff4b6424c   \n",
      "13  435ff887-2fbd-445f-bf2a-2507dccd1dff   \n",
      "14  8df99483-054f-416e-8a78-aff303da02c6   \n",
      "15  1b1432db-34c2-4805-b0be-52296aa9388c   \n",
      "16  138a5d58-6059-4dd5-9414-357c3f0d2c27   \n",
      "17  4f82e620-a154-4fae-8d7f-5638e86b1327   \n",
      "18  ba5519e2-711b-42ce-b302-b346ff8473d2   \n",
      "19  e377f9a1-71f3-4bf9-9cf3-2b42443bb750   \n",
      "\n",
      "                                              content  score       app  \n",
      "0                   Great Awesome Wonderful Beautiful      5  Facebook  \n",
      "1                                        king label❤❤      5  Facebook  \n",
      "2                                                nice      5  Facebook  \n",
      "3                                            Good app      5  Facebook  \n",
      "4                                              Nice 👍      5  Facebook  \n",
      "5                                     Please am sorry      5  Facebook  \n",
      "6                                                  Ok      5  Facebook  \n",
      "7                                                Nice      5  Facebook  \n",
      "8                                            Rabiulsk      5  Facebook  \n",
      "9                                            G coycgc      5  Facebook  \n",
      "10                                            CRICKET      1  Facebook  \n",
      "11  -200 ⭐s because some jackapple has most likely...      1  Facebook  \n",
      "12                                               Nice      5  Facebook  \n",
      "13                                                 ❤️      5  Facebook  \n",
      "14  Se demora muchísimo tiempo en cargar la página...      1  Facebook  \n",
      "15                       Freezing and lagging videos.      2  Facebook  \n",
      "16                                   ممتاز تسلمو كتير      5  Facebook  \n",
      "17               Lolololollololilo better than wechat      5  Facebook  \n",
      "18                                              sucks      1  Facebook  \n",
      "19  If your believe you facebook account has been ...      1  Facebook  \n"
     ]
    }
   ],
   "source": [
    "data_path = \"./data/kaggle_data_0128.csv\"  # Note: this dataset was published on January 28th, 2024\n",
    "raw_data = pd.read_csv(data_path, encoding = \"utf-8\")\n",
    "view_data(raw_data)"
   ]
  },
  {
   "cell_type": "code",
   "execution_count": 4,
   "id": "5208c8a2-4416-4db7-9016-bfe643cdb0f1",
   "metadata": {},
   "outputs": [
    {
     "name": "stdout",
     "output_type": "stream",
     "text": [
      "The shape of data:  (200000, 4)\n",
      "The first 20 rows: \n",
      "                                 reviewId  \\\n",
      "0   c7813790-f22a-439c-be23-f8159e134e0e   \n",
      "1   200df44c-cd5a-452c-a461-6d67a432f942   \n",
      "2   2779a1b2-71bc-4e21-9afb-bc2bd7347330   \n",
      "3   474f7829-54c1-46e0-86b0-917f4fc2cbc4   \n",
      "4   c7f0963c-0e4b-43f0-be11-9b12d4aaaf72   \n",
      "5   17fa5327-ac66-42da-969b-7abacf2af98d   \n",
      "6   dce195ca-3244-410b-b21d-62fb66946989   \n",
      "7   e90d3b5b-3255-4c00-b7e9-2ac813478fdf   \n",
      "8   04b4ce8a-6e97-4f64-84c8-7cd5d2deae2e   \n",
      "9   2b52db84-33b2-4e32-a3d3-f4f614e22cdb   \n",
      "10  7d30f7e6-4f4b-441b-acb5-ce7371b04878   \n",
      "11  7929ca4b-6483-4db3-9b79-dd49444643fc   \n",
      "12  1d8ecd49-eb54-4afe-ab62-a4dff4b6424c   \n",
      "13  435ff887-2fbd-445f-bf2a-2507dccd1dff   \n",
      "14  8df99483-054f-416e-8a78-aff303da02c6   \n",
      "15  1b1432db-34c2-4805-b0be-52296aa9388c   \n",
      "16  138a5d58-6059-4dd5-9414-357c3f0d2c27   \n",
      "17  4f82e620-a154-4fae-8d7f-5638e86b1327   \n",
      "18  ba5519e2-711b-42ce-b302-b346ff8473d2   \n",
      "19  e377f9a1-71f3-4bf9-9cf3-2b42443bb750   \n",
      "\n",
      "                                              content  score       app  \n",
      "0                   Great Awesome Wonderful Beautiful      5  Facebook  \n",
      "1                                       king label鉂も潳      5  Facebook  \n",
      "2                                                nice      5  Facebook  \n",
      "3                                            Good app      5  Facebook  \n",
      "4                                             Nice 馃憤      5  Facebook  \n",
      "5                                     Please am sorry      5  Facebook  \n",
      "6                                                  Ok      5  Facebook  \n",
      "7                                                Nice      5  Facebook  \n",
      "8                                            Rabiulsk      5  Facebook  \n",
      "9                                            G coycgc      5  Facebook  \n",
      "10                                            CRICKET      1  Facebook  \n",
      "11  -200 猸恠 because some jackapple has most likely...      1  Facebook  \n",
      "12                                               Nice      5  Facebook  \n",
      "13                                                鉂わ笍      5  Facebook  \n",
      "14  Se demora much铆simo tiempo en cargar la p谩gina...      1  Facebook  \n",
      "15                       Freezing and lagging videos.      2  Facebook  \n",
      "16                                   賲賲鬲丕夭 鬲爻賱賲賵 賰鬲賷乇      5  Facebook  \n",
      "17               Lolololollololilo better than wechat      5  Facebook  \n",
      "18                                              sucks      1  Facebook  \n",
      "19  If your believe you facebook account has been ...      1  Facebook  \n"
     ]
    }
   ],
   "source": [
    "example_path = \"./data/kaggle_data_0128.xlsx\"  # Microsoft Excel file\n",
    "example = pd.read_excel(example_path)\n",
    "view_data(example)  # bad choice, since the emoji information was probably lost"
   ]
  },
  {
   "cell_type": "markdown",
   "id": "7caf2d70-5606-4c71-b31f-5d856a9846b8",
   "metadata": {},
   "source": [
    "### Drop useless columns."
   ]
  },
  {
   "cell_type": "code",
   "execution_count": 5,
   "id": "43443cef-7ce9-478b-a408-f28d4462a534",
   "metadata": {},
   "outputs": [
    {
     "name": "stdout",
     "output_type": "stream",
     "text": [
      "The shape of data:  (200000, 2)\n",
      "The first 20 rows: \n",
      "                                               content  score\n",
      "0                   Great Awesome Wonderful Beautiful      5\n",
      "1                                        king label❤❤      5\n",
      "2                                                nice      5\n",
      "3                                            Good app      5\n",
      "4                                              Nice 👍      5\n",
      "5                                     Please am sorry      5\n",
      "6                                                  Ok      5\n",
      "7                                                Nice      5\n",
      "8                                            Rabiulsk      5\n",
      "9                                            G coycgc      5\n",
      "10                                            CRICKET      1\n",
      "11  -200 ⭐s because some jackapple has most likely...      1\n",
      "12                                               Nice      5\n",
      "13                                                 ❤️      5\n",
      "14  Se demora muchísimo tiempo en cargar la página...      1\n",
      "15                       Freezing and lagging videos.      2\n",
      "16                                   ممتاز تسلمو كتير      5\n",
      "17               Lolololollololilo better than wechat      5\n",
      "18                                              sucks      1\n",
      "19  If your believe you facebook account has been ...      1\n"
     ]
    }
   ],
   "source": [
    "raw_data.drop([\"reviewId\", \"app\"], axis = 1, inplace = True)  # drop the abstract id and app name, avoiding possible bias\n",
    "view_data(raw_data)"
   ]
  },
  {
   "cell_type": "markdown",
   "id": "f3d4e4b3-09c9-4d1a-a90e-028e6861e13c",
   "metadata": {},
   "source": [
    "### Check and drop NaN values."
   ]
  },
  {
   "cell_type": "code",
   "execution_count": 6,
   "id": "df4434f4-0d60-4968-917d-45a1c1e0e310",
   "metadata": {},
   "outputs": [
    {
     "name": "stdout",
     "output_type": "stream",
     "text": [
      "Checking NaN......\n",
      "The NaN rows: \n",
      "       content  score\n",
      "1863       NaN      4\n",
      "12175      NaN      5\n",
      "14361      NaN      2\n",
      "27243      NaN      4\n",
      "41049      NaN      3\n",
      "49372      NaN      5\n",
      "57945      NaN      4\n",
      "64165      NaN      5\n",
      "68814      NaN      4\n",
      "76358      NaN      4\n",
      "85962      NaN      4\n",
      "97185      NaN      3\n",
      "98617      NaN      5\n",
      "99481      NaN      5\n",
      "100549     NaN      5\n",
      "130957     NaN      4\n",
      "132086     NaN      4\n",
      "136544     NaN      1\n",
      "137259     NaN      1\n",
      "143847     NaN      5\n",
      "155115     NaN      5\n",
      "156829     NaN      5\n",
      "163969     NaN      3\n",
      "169567     NaN      5\n",
      "183745     NaN      5\n",
      "189352     NaN      5\n",
      "193045     NaN      5\n",
      "195016     NaN      2\n",
      "195481     NaN      5\n",
      "\n",
      "The number of rows with NaN: 29\n",
      "Deleting......\n",
      "These rows with NaN had been removed!\n",
      "\n",
      "Checking NaN......\n",
      "No NaN data detected\n",
      "\n",
      "The shape of data:  (199971, 2)\n",
      "The first 20 rows: \n",
      "                                               content  score\n",
      "0                   Great Awesome Wonderful Beautiful      5\n",
      "1                                        king label❤❤      5\n",
      "2                                                nice      5\n",
      "3                                            Good app      5\n",
      "4                                              Nice 👍      5\n",
      "5                                     Please am sorry      5\n",
      "6                                                  Ok      5\n",
      "7                                                Nice      5\n",
      "8                                            Rabiulsk      5\n",
      "9                                            G coycgc      5\n",
      "10                                            CRICKET      1\n",
      "11  -200 ⭐s because some jackapple has most likely...      1\n",
      "12                                               Nice      5\n",
      "13                                                 ❤️      5\n",
      "14  Se demora muchísimo tiempo en cargar la página...      1\n",
      "15                       Freezing and lagging videos.      2\n",
      "16                                   ممتاز تسلمو كتير      5\n",
      "17               Lolololollololilo better than wechat      5\n",
      "18                                              sucks      1\n",
      "19  If your believe you facebook account has been ...      1\n"
     ]
    }
   ],
   "source": [
    "check_NaN(raw_data)\n",
    "print(\"\")\n",
    "check_NaN(raw_data)\n",
    "print(\"\")\n",
    "view_data(raw_data)"
   ]
  },
  {
   "cell_type": "markdown",
   "id": "c4ed6ddd-dce9-4720-ab51-adf22456aaf4",
   "metadata": {},
   "source": [
    "### Drop possibly duplicate data and only keep the first one if duplicate was detected."
   ]
  },
  {
   "cell_type": "code",
   "execution_count": 7,
   "id": "5deaf96c-e580-4e9b-8ce9-ded72c3fd991",
   "metadata": {},
   "outputs": [
    {
     "name": "stdout",
     "output_type": "stream",
     "text": [
      "The shape of data:  (136110, 2)\n",
      "The first 20 rows: \n",
      "                                               content  score\n",
      "0                   Great Awesome Wonderful Beautiful      5\n",
      "1                                        king label❤❤      5\n",
      "2                                                nice      5\n",
      "3                                            Good app      5\n",
      "4                                              Nice 👍      5\n",
      "5                                     Please am sorry      5\n",
      "6                                                  Ok      5\n",
      "7                                                Nice      5\n",
      "8                                            Rabiulsk      5\n",
      "9                                            G coycgc      5\n",
      "10                                            CRICKET      1\n",
      "11  -200 ⭐s because some jackapple has most likely...      1\n",
      "13                                                 ❤️      5\n",
      "14  Se demora muchísimo tiempo en cargar la página...      1\n",
      "15                       Freezing and lagging videos.      2\n",
      "16                                   ممتاز تسلمو كتير      5\n",
      "17               Lolololollololilo better than wechat      5\n",
      "18                                              sucks      1\n",
      "19  If your believe you facebook account has been ...      1\n",
      "20                          The Lord his my shepherds      5\n"
     ]
    }
   ],
   "source": [
    "# for example, observe the \"Nice\" review in both output[6] and output[7]\n",
    "raw_data.drop_duplicates(subset = [\"content\"], keep = \"first\", inplace = True)\n",
    "view_data(raw_data)"
   ]
  },
  {
   "cell_type": "markdown",
   "id": "81720dfe-cf67-47fa-bb36-f0929d0c27e4",
   "metadata": {},
   "source": [
    "### Basic data preprocessing."
   ]
  },
  {
   "cell_type": "code",
   "execution_count": 8,
   "id": "7dc915cf-42ab-4cd2-b6cb-5505ff10e972",
   "metadata": {},
   "outputs": [
    {
     "name": "stdout",
     "output_type": "stream",
     "text": [
      "Checking NaN......\n",
      "No NaN data detected\n",
      "The shape of data:  (133070, 2)\n",
      "The first 20 rows: \n",
      "                                               content  score\n",
      "0                   great awesome wonderful beautiful      5\n",
      "1                      king label red heart red heart      5\n",
      "2                                                nice      5\n",
      "3                                            good app      5\n",
      "4                                      nice thumbs up      5\n",
      "5                                     please am sorry      5\n",
      "6                                                  ok      5\n",
      "7                                                nice      5\n",
      "8                                            rabiulsk      5\n",
      "9                                            g coycgc      5\n",
      "10                                            cricket      1\n",
      "11  200 star s because some jackapple has most lik...      1\n",
      "13                                          red heart      5\n",
      "14  se demora much simo tiempo en cargar la p gina...      1\n",
      "15                       freezing and lagging videos.      2\n",
      "17               lolololollololilo better than wechat      5\n",
      "18                                              sucks      1\n",
      "19  if your believe you facebook account has been ...      1\n",
      "20                          the lord his my shepherds      5\n",
      "21  remove my information by other phone or comput...      5\n"
     ]
    }
   ],
   "source": [
    "# apply the pre-defined functions, to turn the emoji into words and remove useless characters\n",
    "raw_data[\"content\"] = raw_data[\"content\"].astype(str).apply(turn_emoji_into_word)  \n",
    "raw_data[\"content\"] = raw_data[\"content\"].apply(remove_useless_char)\n",
    "\n",
    "# lowercase\n",
    "raw_data[\"content\"] = raw_data[\"content\"].str.lower()  \n",
    "\n",
    "# check the null value further\n",
    "raw_data = raw_data[~(raw_data[\"content\"].str.isspace() | (raw_data[\"content\"] == \"\"))]\n",
    "check_NaN(raw_data)\n",
    "\n",
    "view_data(raw_data)"
   ]
  },
  {
   "cell_type": "markdown",
   "id": "f6a3a372-de6f-49ef-8d21-2361584e74e3",
   "metadata": {},
   "source": [
    "### Length detection and interception."
   ]
  },
  {
   "cell_type": "code",
   "execution_count": 9,
   "id": "2d5d6202-d51a-48d9-a29e-f1afadc7c4c4",
   "metadata": {},
   "outputs": [],
   "source": [
    "minimum_length = 8\n",
    "raw_data[\"length\"] = raw_data[\"content\"].str.split(r'\\s+').apply(len)  # how many \"words\" did one sentence hold\n",
    "raw_data = raw_data[(raw_data[\"length\"] >= minimum_length)]  # only consider those sentences, which had eight or more \"words\""
   ]
  },
  {
   "cell_type": "code",
   "execution_count": 10,
   "id": "0e6881c6-309f-44ef-9399-5ca2661e7e18",
   "metadata": {},
   "outputs": [
    {
     "name": "stdout",
     "output_type": "stream",
     "text": [
      "The shape of data:  (67314, 3)\n",
      "The first 20 rows: \n",
      "                                               content  score  length\n",
      "11  200 star s because some jackapple has most lik...      1      56\n",
      "14  se demora much simo tiempo en cargar la p gina...      1      15\n",
      "19  if your believe you facebook account has been ...      1      25\n",
      "21  remove my information by other phone or comput...      5      11\n",
      "35  my facebook id used to have many likes and com...      5      23\n",
      "36  lots of ads sponsered show and scammer, when b...      1      19\n",
      "42  in case you thought about it, don't pay for me...      1      30\n",
      "43  5 stars had to use fake name, but real one was...      1      41\n",
      "45  please bring back the old facebook, i badly wa...      3      13\n",
      "46                  i see facebook as one of the best      5       8\n",
      "48  fesbook my febright app hundred points thumbs ...      5      14\n",
      "53  so creative such talent enthusiasm imagination...      5      11\n",
      "54  what happen to marketplace..i cant review mark...      1      12\n",
      "55  i just like to say a big thank you to all the ...      5      25\n",
      "56            red heart red heart red heart red heart      5       8\n",
      "59  i'm going out with a little girl and i have no...      5     144\n",
      "72  really all that is bad is to many adverts and ...      5      16\n",
      "76                 bhi data bhout use karta ha ya app      5       8\n",
      "82   other world face with rolling eyes smirking face      5       8\n",
      "83  too many unnecessary security just for simply ...      1      32\n"
     ]
    }
   ],
   "source": [
    "view_data(raw_data)"
   ]
  },
  {
   "cell_type": "markdown",
   "id": "b9595163-e529-4c53-a398-65ba728b0340",
   "metadata": {},
   "source": [
    "### Language Detection."
   ]
  },
  {
   "cell_type": "code",
   "execution_count": 11,
   "id": "188a4ba2-5a5a-4826-aa2d-ff126de406f1",
   "metadata": {},
   "outputs": [
    {
     "name": "stderr",
     "output_type": "stream",
     "text": [
      "100%|████████████████████████████████████| 67314/67314 [02:10<00:00, 516.24it/s]"
     ]
    },
    {
     "name": "stdout",
     "output_type": "stream",
     "text": [
      "   ---data_english---\n",
      "The shape of data:  (63996, 3)\n",
      "The first 20 rows: \n",
      "                                               content  score  length\n",
      "11  200 star s because some jackapple has most lik...      1      56\n",
      "19  if your believe you facebook account has been ...      1      25\n",
      "21  remove my information by other phone or comput...      5      11\n",
      "35  my facebook id used to have many likes and com...      5      23\n",
      "36  lots of ads sponsered show and scammer, when b...      1      19\n",
      "42  in case you thought about it, don't pay for me...      1      30\n",
      "43  5 stars had to use fake name, but real one was...      1      41\n",
      "45  please bring back the old facebook, i badly wa...      3      13\n",
      "46                  i see facebook as one of the best      5       8\n",
      "48  fesbook my febright app hundred points thumbs ...      5      14\n",
      "53  so creative such talent enthusiasm imagination...      5      11\n",
      "54  what happen to marketplace..i cant review mark...      1      12\n",
      "55  i just like to say a big thank you to all the ...      5      25\n",
      "56            red heart red heart red heart red heart      5       8\n",
      "59  i'm going out with a little girl and i have no...      5     144\n",
      "72  really all that is bad is to many adverts and ...      5      16\n",
      "82   other world face with rolling eyes smirking face      5       8\n",
      "83  too many unnecessary security just for simply ...      1      32\n",
      "85  it's cool to kill time and catch up with old f...      5      11\n",
      "86  been attempting to recover my profile not sure...      2      21\n"
     ]
    },
    {
     "name": "stderr",
     "output_type": "stream",
     "text": [
      "\n"
     ]
    }
   ],
   "source": [
    "tqdm.pandas()  # progress bar\n",
    "english_check = raw_data[\"content\"].progress_apply(is_english)  # M1 pro \n",
    "\n",
    "data_english = raw_data[english_check]\n",
    "\n",
    "print(\"   ---data_english---\")\n",
    "view_data(data_english)"
   ]
  },
  {
   "cell_type": "markdown",
   "id": "da9283e0-5d7b-4cf1-a9d5-e0807830a547",
   "metadata": {},
   "source": [
    "### Use the SentiStrength api to get automatic emotion scores."
   ]
  },
  {
   "cell_type": "code",
   "execution_count": 12,
   "id": "db4283dd-07b6-466d-aac0-e771802426db",
   "metadata": {},
   "outputs": [
    {
     "name": "stdout",
     "output_type": "stream",
     "text": [
      "The shaple of data_english: (63996, 3)\n",
      "The shaple of api_scores: (63996, 2)\n",
      "The shape of data:  (63996, 5)\n",
      "The first 20 rows: \n",
      "                                               content  score  length  \\\n",
      "0   200 star s because some jackapple has most lik...      1      56   \n",
      "1   if your believe you facebook account has been ...      1      25   \n",
      "2   remove my information by other phone or comput...      5      11   \n",
      "3   my facebook id used to have many likes and com...      5      23   \n",
      "4   lots of ads sponsered show and scammer, when b...      1      19   \n",
      "5   in case you thought about it, don't pay for me...      1      30   \n",
      "6   5 stars had to use fake name, but real one was...      1      41   \n",
      "7   please bring back the old facebook, i badly wa...      3      13   \n",
      "8                   i see facebook as one of the best      5       8   \n",
      "9   fesbook my febright app hundred points thumbs ...      5      14   \n",
      "10  so creative such talent enthusiasm imagination...      5      11   \n",
      "11  what happen to marketplace..i cant review mark...      1      12   \n",
      "12  i just like to say a big thank you to all the ...      5      25   \n",
      "13            red heart red heart red heart red heart      5       8   \n",
      "14  i'm going out with a little girl and i have no...      5     144   \n",
      "15  really all that is bad is to many adverts and ...      5      16   \n",
      "16   other world face with rolling eyes smirking face      5       8   \n",
      "17  too many unnecessary security just for simply ...      1      32   \n",
      "18  it's cool to kill time and catch up with old f...      5      11   \n",
      "19  been attempting to recover my profile not sure...      2      21   \n",
      "\n",
      "    positive  negative  \n",
      "0          1        -2  \n",
      "1          1        -2  \n",
      "2          1        -1  \n",
      "3          3        -1  \n",
      "4          1        -3  \n",
      "5          1        -3  \n",
      "6          3        -2  \n",
      "7          2        -2  \n",
      "8          2        -1  \n",
      "9          1        -1  \n",
      "10         3        -3  \n",
      "11         1        -1  \n",
      "12         2        -2  \n",
      "13         1        -1  \n",
      "14         3        -2  \n",
      "15         1        -2  \n",
      "16         1        -1  \n",
      "17         2        -3  \n",
      "18         2        -2  \n",
      "19         1        -1  \n"
     ]
    }
   ],
   "source": [
    "# automatic emotion scores for three columns of the result: positive, neutral, negative, from the SentiStrength api\n",
    "api_scores = pd.DataFrame(pysenti.get_senti_list(data_english[\"content\"]))  \n",
    "api_scores.drop(columns=[\"neutral\"], inplace = True)  # drop the neutral score column\n",
    "\n",
    "print(\"The shape of data_english:\", data_english.shape)\n",
    "print(\"The shape of api_scores:\", api_scores.shape)\n",
    "\n",
    "# reset the index to avoid possible bugs when concatenating the original data with their emotion scores\n",
    "data_english_reset = data_english.reset_index(drop=True)\n",
    "api_scores_reset = api_scores.reset_index(drop=True)\n",
    "\n",
    "reviews_with_api_scores = pd.concat([data_english_reset, api_scores_reset], axis = 1)  # concatenate two dataframe objects\n",
    "# print(\"The shape of reviews_with_api_scores:\", reviews_with_api_scores.shape)\n",
    "\n",
    "view_data(reviews_with_api_scores)"
   ]
  },
  {
   "cell_type": "markdown",
   "id": "db91f82d-21ed-445e-a1db-7c4065590e5d",
   "metadata": {},
   "source": [
    "### Some statistical operations on the data, in preparation for the multi-class classifier."
   ]
  },
  {
   "cell_type": "code",
   "execution_count": 13,
   "id": "490e52f3-7702-439a-9e43-6bafd14c1baf",
   "metadata": {},
   "outputs": [
    {
     "name": "stdout",
     "output_type": "stream",
     "text": [
      "The shape of data:  (63996, 8)\n",
      "The first 20 rows: \n",
      "                                               content  score  length  \\\n",
      "0   200 star s because some jackapple has most lik...      1      56   \n",
      "1   if your believe you facebook account has been ...      1      25   \n",
      "2   remove my information by other phone or comput...      5      11   \n",
      "3   my facebook id used to have many likes and com...      5      23   \n",
      "4   lots of ads sponsered show and scammer, when b...      1      19   \n",
      "5   in case you thought about it, don't pay for me...      1      30   \n",
      "6   5 stars had to use fake name, but real one was...      1      41   \n",
      "7   please bring back the old facebook, i badly wa...      3      13   \n",
      "8                   i see facebook as one of the best      5       8   \n",
      "9   fesbook my febright app hundred points thumbs ...      5      14   \n",
      "10  so creative such talent enthusiasm imagination...      5      11   \n",
      "11  what happen to marketplace..i cant review mark...      1      12   \n",
      "12  i just like to say a big thank you to all the ...      5      25   \n",
      "13            red heart red heart red heart red heart      5       8   \n",
      "14  i'm going out with a little girl and i have no...      5     144   \n",
      "15  really all that is bad is to many adverts and ...      5      16   \n",
      "16   other world face with rolling eyes smirking face      5       8   \n",
      "17  too many unnecessary security just for simply ...      1      32   \n",
      "18  it's cool to kill time and catch up with old f...      5      11   \n",
      "19  been attempting to recover my profile not sure...      2      21   \n",
      "\n",
      "    positive  negative emotion_label google_label     warn  \n",
      "0          1        -2      negative     negative           \n",
      "1          1        -2      negative     negative           \n",
      "2          1        -1       neutral     positive  warning  \n",
      "3          3        -1      positive     positive           \n",
      "4          1        -3      negative     negative           \n",
      "5          1        -3      negative     negative           \n",
      "6          3        -2      positive     negative  warning  \n",
      "7          2        -2       neutral      neutral           \n",
      "8          2        -1      positive     positive           \n",
      "9          1        -1       neutral     positive  warning  \n",
      "10         3        -3       neutral     positive  warning  \n",
      "11         1        -1       neutral     negative  warning  \n",
      "12         2        -2       neutral     positive  warning  \n",
      "13         1        -1       neutral     positive  warning  \n",
      "14         3        -2      positive     positive           \n",
      "15         1        -2      negative     positive  warning  \n",
      "16         1        -1       neutral     positive  warning  \n",
      "17         2        -3      negative     negative           \n",
      "18         2        -2       neutral     positive  warning  \n",
      "19         1        -1       neutral     negative  warning  \n"
     ]
    }
   ],
   "source": [
    "# Compare \"positive\" and \"negative\" emotion scores of data. \n",
    "# Create a new column \"emotion_label\" to store emotion labels of data.\n",
    "# The \"emotion_label\" was set as neutral if positive score was equal to negative score.\n",
    "# The \"emotion_label\" was set as positive if the positive score was larger than the negative score, vice versa.\n",
    "# Note: These emotion scores were automatically added ones from the SentiStrength api.\n",
    "reviews_with_api_scores[\"emotion_label\"] = reviews_with_api_scores.apply(lambda row: \"positive\" if abs(row[\"positive\"]) > abs(row[\"negative\"])\n",
    "                                else (\"negative\" if abs(row[\"negative\"]) > abs(row[\"positive\"])\n",
    "                                else \"neutral\"), axis=1)  # axis=1: row by row\n",
    "\n",
    "# Create a new column \"google_label\" to store emotion labels of data based on original dataset scores from the Kaggle.\n",
    "# If the score was 1 or 2, set it as the negative; 3 for neutral; 4 or 5 for positive.\n",
    "# Note: These emotion scores were from the original dataset of the Kaggle.\n",
    "reviews_with_api_scores[\"google_label\"] = reviews_with_api_scores[\"score\"].apply(lambda x: \"negative\" if x in [1, 2] else (\n",
    "                                                                             \"neutral\" if x == 3 else (\n",
    "                                                                             \"positive\" if x in [4, 5] else None)))\n",
    "\n",
    "# If two kinds of labels were different for one review, add a \"warning\" tag.\n",
    "reviews_with_api_scores[\"warn\"] = reviews_with_api_scores.apply(\n",
    "                    lambda row: \"warning\" if row[\"emotion_label\"] != row[\"google_label\"] else \" \", axis=1)\n",
    "\n",
    "view_data(reviews_with_api_scores)"
   ]
  },
  {
   "cell_type": "code",
   "execution_count": 14,
   "id": "4637cfe6-0975-48b8-b6ff-691fe4ce2eef",
   "metadata": {},
   "outputs": [
    {
     "name": "stdout",
     "output_type": "stream",
     "text": [
      "warning amount: 28492\n",
      "data amount: 63996\n",
      "The warning ratio was: 0.4452153259578724\n"
     ]
    }
   ],
   "source": [
    "# print the warning ratio of the whole dataset, to get the \"feeling\" about the SentiStrength api performance\n",
    "simple_warning_check(reviews_with_api_scores) "
   ]
  },
  {
   "cell_type": "code",
   "execution_count": 15,
   "id": "cc69abe0-ffda-45c8-8dd0-c4aaa283f4c6",
   "metadata": {},
   "outputs": [
    {
     "data": {
      "image/png": "[encoded data removed]",
      "text/plain": [
       "<Figure size 800x600 with 1 Axes>"
      ]
     },
     "metadata": {},
     "output_type": "display_data"
    }
   ],
   "source": [
    "draw_distribution(reviews_with_api_scores)  # draw the bar chart to describe emotion label distribution based on SentiStrength api"
   ]
  },
  {
   "cell_type": "markdown",
   "id": "d6d2f709-a7ad-4f70-a372-bfc89aac324e",
   "metadata": {},
   "source": [
    "### Selected 8000 reviews randomly."
   ]
  },
  {
   "cell_type": "code",
   "execution_count": 16,
   "id": "25a11a3e-046e-4176-a7f6-8e2a1be409ed",
   "metadata": {},
   "outputs": [],
   "source": [
    "reviews = reviews_with_api_scores.sample(n=8000, random_state=992)  # 992"
   ]
  },
  {
   "cell_type": "code",
   "execution_count": 17,
   "id": "97900044-39a2-44d2-9cce-532f74ba71a7",
   "metadata": {},
   "outputs": [
    {
     "name": "stdout",
     "output_type": "stream",
     "text": [
      "The shape of data:  (8000, 8)\n",
      "The first 20 rows: \n",
      "                                                  content  score  length  \\\n",
      "63864  ver 12.14.1, delete all data menu not function...      3      23   \n",
      "37176  used to be good. too many pop ups, ads article...      1      13   \n",
      "40583  i couldn't even sign up i contacted fliphelp n...      1      12   \n",
      "18714  for what i know about this app and it works re...      5      19   \n",
      "47785  love the app, though on occasions what is play...      2      95   \n",
      "55017  one of the best ways to store your pictures an...      5      21   \n",
      "32254  x formally twitter is a good place to chat abo...      4      25   \n",
      "33092  i miss twitter not this thing x com sounds sle...      1      15   \n",
      "51699  this application is organized for only showing...      1      23   \n",
      "4886   everything is good but whatapp please update y...      4       9   \n",
      "20960      very useful and having so many good features.      5       8   \n",
      "2210   i enabled two factor authentication in faceboo...      1      18   \n",
      "52600  why did u auto enabled ai data sharing feature...      1      11   \n",
      "12360  allah is only one please don't show allah funn...      1      12   \n",
      "42315  i love the graphics of this game and the multi...      5      15   \n",
      "44725  if you have a problem, it's important to talk ...      1      28   \n",
      "7999      so happy smiling face with smiling eyes filing      5       8   \n",
      "60070  line please bring back posts feature where you...      2      27   \n",
      "20689       good app,, all options are given to make ppt      4       9   \n",
      "53131  very easy to set up an account. impossible to ...      1      11   \n",
      "\n",
      "       positive  negative emotion_label google_label     warn  \n",
      "63864         2        -2       neutral      neutral           \n",
      "37176         2        -1      positive     negative  warning  \n",
      "40583         1        -1       neutral     negative  warning  \n",
      "18714         2        -1      positive     positive           \n",
      "47785         3        -4      negative     negative           \n",
      "55017         2        -1      positive     positive           \n",
      "32254         2        -1      positive     positive           \n",
      "33092         2        -3      negative     negative           \n",
      "51699         1        -1       neutral     negative  warning  \n",
      "4886          2        -1      positive     positive           \n",
      "20960         2        -1      positive     positive           \n",
      "2210          2        -1      positive     negative  warning  \n",
      "52600         1        -2      negative     negative           \n",
      "12360         2        -1      positive     negative  warning  \n",
      "42315         3        -1      positive     positive           \n",
      "44725         1        -2      negative     negative           \n",
      "7999          3        -1      positive     positive           \n",
      "60070         2        -4      negative     negative           \n",
      "20689         2        -1      positive     positive           \n",
      "53131         1        -1       neutral     negative  warning  \n"
     ]
    }
   ],
   "source": [
    "view_data(reviews)"
   ]
  },
  {
   "cell_type": "code",
   "execution_count": 18,
   "id": "e1e81d84-ded7-4ad5-af7d-3dd3fa1ed52a",
   "metadata": {},
   "outputs": [
    {
     "name": "stdout",
     "output_type": "stream",
     "text": [
      "warning amount: 3584\n",
      "data amount: 8000\n",
      "The warning ratio was: 0.448\n"
     ]
    }
   ],
   "source": [
    "simple_warning_check(reviews)  # the warning ratio of the selected reviews"
   ]
  },
  {
   "cell_type": "code",
   "execution_count": 19,
   "id": "e90b3eea-ffff-4f68-a7ea-cf6ee70cb0ff",
   "metadata": {},
   "outputs": [
    {
     "data": {
      "image/png": "[encoded data removed]",
      "text/plain": [
       "<Figure size 800x600 with 1 Axes>"
      ]
     },
     "metadata": {},
     "output_type": "display_data"
    }
   ],
   "source": [
    "draw_distribution(reviews)  # the emotion label distribution based on SentiStrength api for these selected reviews"
   ]
  },
  {
   "cell_type": "code",
   "execution_count": 20,
   "id": "30c1b3fe-0925-4f45-a6d4-75feb9c366ea",
   "metadata": {},
   "outputs": [],
   "source": [
    "reviews.drop([\"score\", \"google_label\", \"warn\"], axis=1, inplace=True)  # drop useless columns after specific statistical operations\n",
    "reviews.index.name = \"manual_index\"  # reset the index to prepare for manually checking\n",
    "\n",
    "# Convert this processed data into the xlsx file for convenient comparison and analysis of various advanced preprocessing operations.\n",
    "reviews.to_excel(\"./data/manual_check_data.xlsx\", index = True, sheet_name = \"original\")  # need \"pip install openpy\" command in the terminal"
   ]
  },
  {
   "cell_type": "markdown",
   "id": "3e091d58-aa7b-452f-87ef-a2b5136912bf",
   "metadata": {},
   "source": [
    "### Was the previous situation of warning rates a coincidence? \n",
    "### Would the ratio change significantly in different time periods? \n",
    "### Whether the judgment of SentiStrength api was reliable and referential?"
   ]
  },
  {
   "cell_type": "code",
   "execution_count": 21,
   "id": "b3892f57-1dfb-4d38-951e-8800031dc0c4",
   "metadata": {},
   "outputs": [
    {
     "name": "stdout",
     "output_type": "stream",
     "text": [
      "Checking NaN......\n",
      "The NaN rows: \n",
      "       content  score\n",
      "11593      NaN      5\n",
      "16445      NaN      4\n",
      "21282      NaN      5\n",
      "23635      NaN      5\n",
      "25468      NaN      5\n",
      "25683      NaN      5\n",
      "83066      NaN      4\n",
      "103850     NaN      5\n",
      "105642     NaN      3\n",
      "108491     NaN      3\n",
      "115799     NaN      3\n",
      "116986     NaN      5\n",
      "122201     NaN      5\n",
      "128968     NaN      1\n",
      "129914     NaN      5\n",
      "130683     NaN      4\n",
      "131870     NaN      4\n",
      "136606     NaN      1\n",
      "137339     NaN      1\n",
      "141455     NaN      1\n",
      "152944     NaN      5\n",
      "154692     NaN      5\n",
      "182145     NaN      5\n",
      "183579     NaN      5\n",
      "185936     NaN      5\n",
      "191203     NaN      5\n",
      "193253     NaN      2\n",
      "193736     NaN      5\n",
      "\n",
      "The number of rows with NaN: 28\n",
      "Deleting......\n",
      "These rows with NaN had been removed!\n",
      "Checking NaN......\n",
      "No NaN data detected\n"
     ]
    },
    {
     "name": "stderr",
     "output_type": "stream",
     "text": [
      "100%|████████████████████████████████████| 67950/67950 [02:12<00:00, 513.89it/s]\n"
     ]
    },
    {
     "name": "stdout",
     "output_type": "stream",
     "text": [
      "warning amount: 28305\n",
      "data amount: 64554\n",
      "The warning ratio was: 0.4384701180407101\n"
     ]
    }
   ],
   "source": [
    "# MOST SAME OPERATIONS AS BEFORE; however, the data was changed.\n",
    "data_path_2 = \"./data/kaggle_data_1020.csv\"  # Note: this dataset was published on October 20th, 2023.\n",
    "raw_data_2 = pd.read_csv(data_path_2, encoding = \"utf-8\")\n",
    "raw_data_2.drop([\"reviewId\", \"app\"], axis=1, inplace=True)\n",
    "\n",
    "check_NaN(raw_data_2)\n",
    "raw_data_2.drop_duplicates(subset = [\"content\"], keep = \"first\", inplace = True)\n",
    "\n",
    "raw_data_2[\"content\"] = raw_data_2[\"content\"].astype(str).apply(turn_emoji_into_word)  \n",
    "raw_data_2[\"content\"] = raw_data_2[\"content\"].apply(remove_useless_char)\n",
    "raw_data_2[\"content\"] = raw_data_2[\"content\"].str.lower()\n",
    "raw_data_2 = raw_data_2[~(raw_data_2[\"content\"].str.isspace() | (raw_data_2[\"content\"] == \"\"))]\n",
    "\n",
    "check_NaN(raw_data_2)\n",
    "\n",
    "minimum_length = 8\n",
    "raw_data_2[\"length\"] = raw_data_2[\"content\"].str.split(r'\\s+').apply(len)\n",
    "raw_data_2 = raw_data_2[(raw_data_2[\"length\"] >= minimum_length)]\n",
    "\n",
    "tqdm.pandas()\n",
    "english_check_2 = raw_data_2[\"content\"].progress_apply(is_english)  # M1 pro \n",
    "\n",
    "data_english_2 = raw_data_2[english_check_2]\n",
    "\n",
    "api_scores_2 = pd.DataFrame(pysenti.get_senti_list(data_english_2[\"content\"]))  \n",
    "api_scores_2.drop(columns=[\"neutral\"], inplace = True)\n",
    "\n",
    "data_english_reset_2 = data_english_2.reset_index(drop=True)\n",
    "api_scores_reset_2 = api_scores_2.reset_index(drop=True)\n",
    "\n",
    "reviews_with_api_scores_2 = pd.concat([data_english_reset_2, api_scores_reset_2], axis = 1)\n",
    "\n",
    "reviews_with_api_scores_2[\"emotion_label\"] = reviews_with_api_scores_2.apply(lambda row: \"positive\" if abs(row[\"positive\"]) > abs(row[\"negative\"])\n",
    "                                else (\"negative\" if abs(row[\"negative\"]) > abs(row[\"positive\"])\n",
    "                                else \"neutral\"), axis=1)  \n",
    "\n",
    "reviews_with_api_scores_2[\"google_label\"] = reviews_with_api_scores_2[\"score\"].apply(lambda x: \"negative\" if x in [1, 2] else (\n",
    "                                                                             \"neutral\" if x == 3 else (\n",
    "                                                                             \"positive\" if x in [4, 5] else None)))\n",
    "\n",
    "reviews_with_api_scores_2[\"warn\"] = reviews_with_api_scores_2.apply(\n",
    "                    lambda row: \"warning\" if row[\"emotion_label\"] != row[\"google_label\"] else \" \", axis=1)\n",
    "\n",
    "simple_warning_check(reviews_with_api_scores_2)"
   ]
  },
  {
   "cell_type": "code",
   "execution_count": 22,
   "id": "08085b71-0e5c-4611-9008-3217984cb656",
   "metadata": {},
   "outputs": [
    {
     "name": "stdout",
     "output_type": "stream",
     "text": [
      "Checking NaN......\n",
      "The NaN rows: \n",
      "       content  score\n",
      "872        NaN      1\n",
      "11024      NaN      2\n",
      "11119      NaN      5\n",
      "17788      NaN      2\n",
      "20464      NaN      1\n",
      "22708      NaN      5\n",
      "23045      NaN      4\n",
      "27303      NaN      1\n",
      "28164      NaN      5\n",
      "34646      NaN      5\n",
      "48391      NaN      1\n",
      "55826      NaN      5\n",
      "62074      NaN      5\n",
      "66313      NaN      5\n",
      "72697      NaN      4\n",
      "84808      NaN      4\n",
      "106731     NaN      5\n",
      "108507     NaN      3\n",
      "112774     NaN      5\n",
      "113762     NaN      5\n",
      "115087     NaN      1\n",
      "130840     NaN      4\n",
      "131999     NaN      4\n",
      "136592     NaN      1\n",
      "137317     NaN      1\n",
      "140205     NaN      3\n",
      "142272     NaN      5\n",
      "154005     NaN      5\n",
      "155731     NaN      5\n",
      "180900     NaN      5\n",
      "186560     NaN      5\n",
      "187967     NaN      5\n",
      "192313     NaN      5\n",
      "194314     NaN      2\n",
      "194785     NaN      5\n",
      "\n",
      "The number of rows with NaN: 35\n",
      "Deleting......\n",
      "These rows with NaN had been removed!\n",
      "Checking NaN......\n",
      "No NaN data detected\n"
     ]
    },
    {
     "name": "stderr",
     "output_type": "stream",
     "text": [
      "100%|████████████████████████████████████| 65957/65957 [02:08<00:00, 512.80it/s]\n"
     ]
    },
    {
     "name": "stdout",
     "output_type": "stream",
     "text": [
      "warning amount: 27271\n",
      "data amount: 62717\n",
      "The warning ratio was: 0.43482628314492083\n"
     ]
    }
   ],
   "source": [
    "# MOST SAME OPERATIONS AS BEFORE; however, the data was changed. \n",
    "data_path_3 = \"./data/kaggle_data_1214.csv\"  # Note: this dataset was published on December 14th, 2023.\n",
    "raw_data_3 = pd.read_csv(data_path_3, encoding = \"utf-8\")\n",
    "raw_data_3.drop([\"reviewId\", \"app\"], axis=1, inplace=True)\n",
    "\n",
    "check_NaN(raw_data_3)\n",
    "raw_data_3.drop_duplicates(subset = [\"content\"], keep = \"first\", inplace = True)\n",
    "\n",
    "raw_data_3[\"content\"] = raw_data_3[\"content\"].astype(str).apply(turn_emoji_into_word)  \n",
    "raw_data_3[\"content\"] = raw_data_3[\"content\"].apply(remove_useless_char)\n",
    "raw_data_3[\"content\"] = raw_data_3[\"content\"].str.lower()\n",
    "raw_data_3 = raw_data_3[~(raw_data_3[\"content\"].str.isspace() | (raw_data_3[\"content\"] == \"\"))]\n",
    "\n",
    "check_NaN(raw_data_3)\n",
    "\n",
    "minimum_length = 8\n",
    "raw_data_3[\"length\"] = raw_data_3[\"content\"].str.split(r'\\s+').apply(len)\n",
    "raw_data_3 = raw_data_3[(raw_data_3[\"length\"] >= minimum_length)]\n",
    "\n",
    "tqdm.pandas()\n",
    "english_check_3 = raw_data_3[\"content\"].progress_apply(is_english)  # M1 pro \n",
    "\n",
    "data_english_3 = raw_data_3[english_check_3]\n",
    "\n",
    "api_scores_3 = pd.DataFrame(pysenti.get_senti_list(data_english_3[\"content\"]))\n",
    "api_scores_3.drop(columns=[\"neutral\"], inplace = True)\n",
    "\n",
    "data_english_reset_3 = data_english_3.reset_index(drop=True)\n",
    "api_scores_reset_3 = api_scores_3.reset_index(drop=True)\n",
    "\n",
    "reviews_with_api_scores_3 = pd.concat([data_english_reset_3, api_scores_reset_3], axis = 1)\n",
    "\n",
    "reviews_with_api_scores_3[\"emotion_label\"] = reviews_with_api_scores_3.apply(lambda row: \"positive\" if abs(row[\"positive\"]) > abs(row[\"negative\"])\n",
    "                                else (\"negative\" if abs(row[\"negative\"]) > abs(row[\"positive\"])\n",
    "                                else \"neutral\"), axis=1)\n",
    "\n",
    "reviews_with_api_scores_3[\"google_label\"] = reviews_with_api_scores_3[\"score\"].apply(lambda x: \"negative\" if x in [1, 2] else (\n",
    "                                                                             \"neutral\" if x == 3 else (\n",
    "                                                                             \"positive\" if x in [4, 5] else None)))\n",
    "\n",
    "reviews_with_api_scores_3[\"warn\"] = reviews_with_api_scores_3.apply(\n",
    "                    lambda row: \"warning\" if row[\"emotion_label\"] != row[\"google_label\"] else \" \", axis=1)\n",
    "\n",
    "simple_warning_check(reviews_with_api_scores_3)"
   ]
  },
  {
   "cell_type": "code",
   "execution_count": null,
   "id": "617d66df-8dd0-4b09-891e-7c5aee477c5e",
   "metadata": {},
   "outputs": [],
   "source": []
  }
 ],
 "metadata": {
  "kernelspec": {
   "display_name": "Python 3 (ipykernel)",
   "language": "python",
   "name": "python3"
  },
  "language_info": {
   "codemirror_mode": {
    "name": "ipython",
    "version": 3
   },
   "file_extension": ".py",
   "mimetype": "text/x-python",
   "name": "python",
   "nbconvert_exporter": "python",
   "pygments_lexer": "ipython3",
   "version": "3.8.18"
  }
 },
 "nbformat": 4,
 "nbformat_minor": 5
}
