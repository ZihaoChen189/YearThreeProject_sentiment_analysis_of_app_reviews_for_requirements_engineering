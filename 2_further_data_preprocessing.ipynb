{
 "cells": [
  {
   "cell_type": "markdown",
   "id": "cd06aead-f5d3-4928-89ba-64d3e47cd113",
   "metadata": {
    "editable": true,
    "slideshow": {
     "slide_type": ""
    },
    "tags": []
   },
   "source": [
    "# Further Data PreProcessing"
   ]
  },
  {
   "cell_type": "markdown",
   "id": "4662b87e-7801-4a7b-ae30-bd86cdf80bdb",
   "metadata": {},
   "source": [
    "### Import useful libraries, some of them should be pip in the current environment (terminal)."
   ]
  },
  {
   "cell_type": "code",
   "execution_count": 1,
   "id": "7441a219-4e4c-4709-a090-4b7c2f9b7512",
   "metadata": {},
   "outputs": [
    {
     "name": "stderr",
     "output_type": "stream",
     "text": [
      "[nltk_data] Downloading package stopwords to /Users/550c/nltk_data...\n",
      "[nltk_data]   Package stopwords is already up-to-date!\n",
      "[nltk_data] Downloading package wordnet to /Users/550c/nltk_data...\n",
      "[nltk_data]   Package wordnet is already up-to-date!\n",
      "[nltk_data] Downloading package punkt to /Users/550c/nltk_data...\n",
      "[nltk_data]   Package punkt is already up-to-date!\n"
     ]
    }
   ],
   "source": [
    "import nltk  # pip; natural language toolkit\n",
    "import pandas as pd  # pip\n",
    "import matplotlib.pyplot as plt  # pip\n",
    "import random\n",
    "\n",
    "# relevant nltk resources for further data preprocessing\n",
    "from nltk.tokenize import TweetTokenizer\n",
    "from nltk.corpus import stopwords\n",
    "from nltk.stem import PorterStemmer\n",
    "from nltk.stem import WordNetLemmatizer\n",
    "from nltk.corpus import wordnet\n",
    "nltk.download('stopwords')\n",
    "nltk.download('wordnet')\n",
    "nltk.download('punkt')\n",
    "\n",
    "random.seed(992)  # random seed"
   ]
  },
  {
   "cell_type": "markdown",
   "id": "e49e92e6-e64c-4c53-9140-a74e54e9de74",
   "metadata": {},
   "source": [
    "### Function Abstraction: the common patterns were extracted to avoid code redundancy and verbosity, increasing code reusability."
   ]
  },
  {
   "cell_type": "code",
   "execution_count": 2,
   "id": "dc870c5d-add4-45c1-ac02-689e2c57f691",
   "metadata": {},
   "outputs": [],
   "source": [
    "def view_data(data):\n",
    "    print(\"The shape of data: \", data.shape)\n",
    "    print(\"The first 10 rows: \\n\", data.head(10))\n",
    "\n",
    "\n",
    "def check_NaN(data):\n",
    "    print(\"Checking NaN......\")\n",
    "    nan_exist = data.isna().any(axis=0).any()  # output of \"data.isna().any(axis=0)\"  might be  \"content: True; score: False\"\n",
    "    \n",
    "    if nan_exist:\n",
    "        nan_rows = data[data.isna().any(axis=1)]  # rows\n",
    "        amount = len(nan_rows) # how many NaN review rows the data had\n",
    "\n",
    "        print(\"The NaN rows: \\n{}\\n\\nThe number of rows with NaN: {}\".format(nan_rows, amount))\n",
    "\n",
    "        print(\"Deleting......\")\n",
    "        data.dropna(axis=0, inplace=True)  # drop the rows containing NaN\n",
    "        print(\"These rows with NaN had been removed!\")\n",
    "        \n",
    "    else:\n",
    "        print(\"No NaN data detected\")\n",
    "        \n",
    "\n",
    "def draw_distribution(data):\n",
    "    # draw a bar chart to describe emotion label distribution\n",
    "    positive_amount = data[data[\"emotion_label\"] == \"positive\"].shape[0]\n",
    "    neutral_amount = data[data[\"emotion_label\"] == \"neutral\"].shape[0]\n",
    "    negative_amount = data[data[\"emotion_label\"] == \"negative\"].shape[0]\n",
    "    \n",
    "    plt.figure(figsize=(8, 6))\n",
    "    bars = plt.bar([\"Positive\", \"Neutral\", \"Negative\"], [positive_amount, neutral_amount, negative_amount], color=[\"green\", \"blue\", \"red\"])\n",
    "    plt.title(\"Emotion Label Distribution\")\n",
    "    plt.xticks([\"Positive\", \"Neutral\", \"Negative\"])\n",
    "    plt.xlabel(\"Categories of reviews\")\n",
    "    plt.ylabel(\"Amount\")\n",
    "    \n",
    "    for bar in bars:\n",
    "        yval = bar.get_height()\n",
    "        plt.text(bar.get_x() + bar.get_width()/2, yval + 5, yval, ha=\"center\", va=\"bottom\")  # show exact digits\n",
    "    plt.show()"
   ]
  },
  {
   "cell_type": "code",
   "execution_count": null,
   "id": "6c893f1c-9600-4f6f-8d30-157c8dc02540",
   "metadata": {},
   "outputs": [],
   "source": []
  },
  {
   "cell_type": "code",
   "execution_count": null,
   "id": "50bd7dd3-059e-49fa-a101-48e31d6a5eab",
   "metadata": {},
   "outputs": [],
   "source": []
  },
  {
   "cell_type": "code",
   "execution_count": null,
   "id": "442a195e-8214-4d46-8dc4-6820fb7ff179",
   "metadata": {},
   "outputs": [],
   "source": []
  },
  {
   "cell_type": "markdown",
   "id": "44128fb1-8319-4c63-bf7d-afe77a018e19",
   "metadata": {},
   "source": [
    "# *Manually checking the SentiStrength's emotion scores and labels based on personal subjectivity: First examining the scores of two emotions. Then comparing their absolute values to determine the final emotion label.*"
   ]
  },
  {
   "cell_type": "code",
   "execution_count": null,
   "id": "4e23f4a2-cef4-45aa-a3c2-650f2affbb28",
   "metadata": {},
   "outputs": [],
   "source": []
  },
  {
   "cell_type": "code",
   "execution_count": null,
   "id": "f9cf4a10-6c41-4e15-a2b4-bde8d185a671",
   "metadata": {},
   "outputs": [],
   "source": []
  },
  {
   "cell_type": "code",
   "execution_count": null,
   "id": "8f4054bf-66d3-419b-b1a0-858e4ff17617",
   "metadata": {},
   "outputs": [],
   "source": []
  },
  {
   "cell_type": "markdown",
   "id": "25afe1ce-1cf1-4e86-a88d-afb9ac6b1a43",
   "metadata": {},
   "source": [
    "### Inspect possible human errors during the manual checking process."
   ]
  },
  {
   "cell_type": "code",
   "execution_count": 3,
   "id": "49ba2378-c6fc-4ecc-a057-ad11e4b7ed9c",
   "metadata": {},
   "outputs": [
    {
     "name": "stdout",
     "output_type": "stream",
     "text": [
      "The shape of data:  (7741, 6)\n",
      "The first 10 rows: \n",
      "    manual_index                                            content  length  \\\n",
      "0         63864  ver 12.14.1, delete all data menu not function...      23   \n",
      "1         37176  used to be good. too many pop ups, ads article...      13   \n",
      "2         40583  i couldn't even sign up i contacted fliphelp n...      12   \n",
      "3         18714  for what i know about this app and it works re...      19   \n",
      "4         47785  love the app, though on occasions what is play...      95   \n",
      "5         55017  one of the best ways to store your pictures an...      21   \n",
      "6         32254  x formally twitter is a good place to chat abo...      25   \n",
      "7         51699  this application is organized for only showing...      23   \n",
      "8          4886  everything is good but whatapp please update y...       9   \n",
      "9          2210  i enabled two factor authentication in faceboo...      18   \n",
      "\n",
      "   positive  negative emotion_label  \n",
      "0       2.0        -2       neutral  \n",
      "1       2.0        -4      negative  \n",
      "2       1.0        -3      negative  \n",
      "3       3.0        -1      positive  \n",
      "4       3.0        -5      negative  \n",
      "5       4.0        -1      positive  \n",
      "6       3.0        -2      positive  \n",
      "7       1.0        -5      negative  \n",
      "8       3.0        -1      positive  \n",
      "9       1.0        -2      negative  \n"
     ]
    }
   ],
   "source": [
    "# data_path = \"./data/FINISH_manual_check_data.xlsx\"  # the version when the data manually checking was just finished\n",
    "\n",
    "# This was a perfect version, potential errors introduced by manual checking process, had been corrected.\n",
    "data_path = \"./data/manual_check_data.xlsx\"  \n",
    "\n",
    "data = pd.read_excel(data_path, sheet_name = \"original\")\n",
    "view_data(data)"
   ]
  },
  {
   "cell_type": "code",
   "execution_count": 4,
   "id": "ea7d576a-bcf0-4f23-ad7e-08d677769c66",
   "metadata": {},
   "outputs": [
    {
     "name": "stdout",
     "output_type": "stream",
     "text": [
      "Checking NaN......\n",
      "The NaN rows: \n",
      "      manual_index content  length  positive  negative emotion_label\n",
      "165          22422     NaN      18       3.0        -2      positive\n",
      "173          21348     NaN      10       2.0        -1      positive\n",
      "193           2212     NaN      16       2.0        -1      positive\n",
      "195          62116     NaN      57       2.0        -2       neutral\n",
      "211          48285     NaN      34       2.0        -4      negative\n",
      "...            ...     ...     ...       ...       ...           ...\n",
      "7710         21387     NaN      16       1.0        -1       neutral\n",
      "7719         27117     NaN       8       2.0        -1      positive\n",
      "7723         21767     NaN      24       4.0        -1      positive\n",
      "7735          7580     NaN      55       2.0        -1      positive\n",
      "7738         32432     NaN      13       1.0        -1       neutral\n",
      "\n",
      "[2452 rows x 6 columns]\n",
      "\n",
      "The number of rows with NaN: 2452\n",
      "Deleting......\n",
      "These rows with NaN had been removed!\n",
      "\n",
      "Checking NaN......\n",
      "No NaN data detected\n",
      "\n",
      "The shape of data:  (5289, 6)\n",
      "The first 10 rows: \n",
      "    manual_index                                            content  length  \\\n",
      "0         63864  ver 12.14.1, delete all data menu not function...      23   \n",
      "1         37176  used to be good. too many pop ups, ads article...      13   \n",
      "2         40583  i couldn't even sign up i contacted fliphelp n...      12   \n",
      "3         18714  for what i know about this app and it works re...      19   \n",
      "4         47785  love the app, though on occasions what is play...      95   \n",
      "5         55017  one of the best ways to store your pictures an...      21   \n",
      "6         32254  x formally twitter is a good place to chat abo...      25   \n",
      "7         51699  this application is organized for only showing...      23   \n",
      "8          4886  everything is good but whatapp please update y...       9   \n",
      "9          2210  i enabled two factor authentication in faceboo...      18   \n",
      "\n",
      "   positive  negative emotion_label  \n",
      "0       2.0        -2       neutral  \n",
      "1       2.0        -4      negative  \n",
      "2       1.0        -3      negative  \n",
      "3       3.0        -1      positive  \n",
      "4       3.0        -5      negative  \n",
      "5       4.0        -1      positive  \n",
      "6       3.0        -2      positive  \n",
      "7       1.0        -5      negative  \n",
      "8       3.0        -1      positive  \n",
      "9       1.0        -2      negative  \n"
     ]
    },
    {
     "data": {
      "text/plain": [
       "<function __main__.view_data(data)>"
      ]
     },
     "execution_count": 4,
     "metadata": {},
     "output_type": "execute_result"
    }
   ],
   "source": [
    "# During the manual checking process, if a comment was considered as the unrepresentative one, \n",
    "# delete that review in the \"content\" column; afterwards, this review would be detected and dropped as NaN value.\n",
    "\n",
    "check_NaN(data)\n",
    "print(\"\")\n",
    "check_NaN(data)\n",
    "print(\"\")\n",
    "view_data(data)\n",
    "\n",
    "data = data[~(data[\"content\"].str.isspace() | (data[\"content\"] == \"\"))]  # check the null value further\n",
    "view_data"
   ]
  },
  {
   "cell_type": "code",
   "execution_count": 5,
   "id": "26703e1c-b2ea-46b2-80e8-7ac4bba37e1c",
   "metadata": {},
   "outputs": [
    {
     "data": {
      "image/png": "[encoded data removed]",
      "text/plain": [
       "<Figure size 800x600 with 1 Axes>"
      ]
     },
     "metadata": {},
     "output_type": "display_data"
    }
   ],
   "source": [
    "# draw the bar chart to describe emotion label distribution after the manual checking process\n",
    "draw_distribution(data)  "
   ]
  },
  {
   "cell_type": "code",
   "execution_count": 6,
   "id": "8098fe88-ed1f-4ba6-9950-dcd4b146e144",
   "metadata": {},
   "outputs": [
    {
     "name": "stdout",
     "output_type": "stream",
     "text": [
      "Index for Invalid Negative Values: []\n",
      "Index for Invalid Positive Values: []\n"
     ]
    }
   ],
   "source": [
    "# Check if there were reviews whose emotional scores did not meet standards: \n",
    "# positive scores range from 1 to 5, and negative scores range from -1 to -5. \n",
    "# This was crucial for subsequent experiments.\n",
    "\n",
    "data_with_invalid_negative = data[~data[\"negative\"].isin([-1, -2, -3, -4, -5])]\n",
    "data_with_invalid_positive = data[~data[\"positive\"].isin([1, 2, 3, 4, 5])]\n",
    "\n",
    "print(\"Index for Invalid Negative Values:\", data_with_invalid_negative[\"manual_index\"].tolist())\n",
    "print(\"Index for Invalid Positive Values:\", data_with_invalid_positive[\"manual_index\"].tolist())"
   ]
  },
  {
   "cell_type": "code",
   "execution_count": 7,
   "id": "641d44d3-0b14-409d-9e82-8f72f57a1845",
   "metadata": {},
   "outputs": [
    {
     "name": "stdout",
     "output_type": "stream",
     "text": [
      "There were totally 0 emotion labels not matched.\n",
      "Empty DataFrame\n",
      "Columns: [manual_index, content, length, positive, negative, emotion_label, calculated_emotion_label]\n",
      "Index: []\n"
     ]
    }
   ],
   "source": [
    "# Verify whether the final emotion label of app reviews was calculated correctly during the manual checking process, \n",
    "# which involved comparing absolute values of the two emotional scores.\n",
    "\n",
    "data[\"calculated_emotion_label\"] = data.apply(\n",
    "                                                lambda row: \"positive\" if abs(row[\"positive\"]) > abs(row[\"negative\"])\n",
    "                                                else (\"negative\" if abs(row[\"negative\"]) > abs(row[\"positive\"])\n",
    "                                                else \"neutral\"), axis=1)\n",
    "\n",
    "mismatches = data[ data[\"emotion_label\"] != data[\"calculated_emotion_label\"] ]\n",
    "\n",
    "print(f\"There were totally {mismatches.shape[0]} emotion labels not matched.\")  # how many rows?\n",
    "print(mismatches)"
   ]
  },
  {
   "cell_type": "code",
   "execution_count": 8,
   "id": "4c28377a-323a-42e9-b476-55c4b3a9c349",
   "metadata": {},
   "outputs": [
    {
     "name": "stdout",
     "output_type": "stream",
     "text": [
      "Index for Mismatched Content Length: []\n"
     ]
    }
   ],
   "source": [
    "# Re-examine briefly using the attribute of length.\n",
    "data[\"length_check\"] = data[\"content\"].apply(lambda x: len(x.split()) if pd.notnull(x) else 0)\n",
    "data_with_mismatched_length = data[ data[\"length_check\"] != data[\"length\"] ]\n",
    "\n",
    "print(\"Index for Mismatched Content Length:\", data_with_mismatched_length[\"manual_index\"].tolist())"
   ]
  },
  {
   "cell_type": "code",
   "execution_count": 9,
   "id": "6f740ffd-5bfd-4987-8156-f7636ec2f984",
   "metadata": {},
   "outputs": [
    {
     "name": "stdout",
     "output_type": "stream",
     "text": [
      "The shape of data:  (5289, 6)\n",
      "The first 10 rows: \n",
      "    manual_index                                            content  length  \\\n",
      "0         63864  ver 12.14.1, delete all data menu not function...      23   \n",
      "1         37176  used to be good. too many pop ups, ads article...      13   \n",
      "2         40583  i couldn't even sign up i contacted fliphelp n...      12   \n",
      "3         18714  for what i know about this app and it works re...      19   \n",
      "4         47785  love the app, though on occasions what is play...      95   \n",
      "5         55017  one of the best ways to store your pictures an...      21   \n",
      "6         32254  x formally twitter is a good place to chat abo...      25   \n",
      "7         51699  this application is organized for only showing...      23   \n",
      "8          4886  everything is good but whatapp please update y...       9   \n",
      "9          2210  i enabled two factor authentication in faceboo...      18   \n",
      "\n",
      "   positive  negative emotion_label  \n",
      "0       2.0        -2       neutral  \n",
      "1       2.0        -4      negative  \n",
      "2       1.0        -3      negative  \n",
      "3       3.0        -1      positive  \n",
      "4       3.0        -5      negative  \n",
      "5       4.0        -1      positive  \n",
      "6       3.0        -2      positive  \n",
      "7       1.0        -5      negative  \n",
      "8       3.0        -1      positive  \n",
      "9       1.0        -2      negative  \n"
     ]
    }
   ],
   "source": [
    "# Discard columns created for auxiliary inspection.\n",
    "data.drop([\"calculated_emotion_label\", \"length_check\"], axis=1, inplace=True)   \n",
    "view_data(data)\n",
    "data.to_excel(\"./data/processed_data_after_manual.xlsx\", index = False, sheet_name = \"processed\") "
   ]
  },
  {
   "cell_type": "markdown",
   "id": "05d42497-32e3-485d-83b2-720191a80c61",
   "metadata": {},
   "source": [
    "# *At this moment, the emotion scores and labels, which were manually checked, had been inspected further to avoid errors that may be introduced during the manual checking process.*"
   ]
  },
  {
   "cell_type": "code",
   "execution_count": null,
   "id": "2da93232-e482-42af-a4d0-7eaac9d06c82",
   "metadata": {},
   "outputs": [],
   "source": []
  },
  {
   "cell_type": "code",
   "execution_count": null,
   "id": "22804081-62ed-494f-98b3-1e36920deb2a",
   "metadata": {},
   "outputs": [],
   "source": []
  },
  {
   "cell_type": "code",
   "execution_count": null,
   "id": "48e95cf0-df55-40fb-911b-287401b9f498",
   "metadata": {},
   "outputs": [],
   "source": []
  },
  {
   "cell_type": "markdown",
   "id": "61d37519-7472-478d-92c9-0bf7857dc16a",
   "metadata": {},
   "source": [
    "# Further Data PreProcessing for subsequent experiments"
   ]
  },
  {
   "cell_type": "markdown",
   "id": "10876e4b-6e96-4bf8-8330-7febb5b6d179",
   "metadata": {},
   "source": [
    "### Read the data, which had been manually checked and insepcted further."
   ]
  },
  {
   "cell_type": "code",
   "execution_count": 10,
   "id": "b6392802-86cb-4a90-a6d7-fc56971fa8b9",
   "metadata": {},
   "outputs": [
    {
     "name": "stdout",
     "output_type": "stream",
     "text": [
      "The shape of data:  (5289, 6)\n",
      "The first 10 rows: \n",
      "    manual_index                                            content  length  \\\n",
      "0         63864  ver 12.14.1, delete all data menu not function...      23   \n",
      "1         37176  used to be good. too many pop ups, ads article...      13   \n",
      "2         40583  i couldn't even sign up i contacted fliphelp n...      12   \n",
      "3         18714  for what i know about this app and it works re...      19   \n",
      "4         47785  love the app, though on occasions what is play...      95   \n",
      "5         55017  one of the best ways to store your pictures an...      21   \n",
      "6         32254  x formally twitter is a good place to chat abo...      25   \n",
      "7         51699  this application is organized for only showing...      23   \n",
      "8          4886  everything is good but whatapp please update y...       9   \n",
      "9          2210  i enabled two factor authentication in faceboo...      18   \n",
      "\n",
      "   positive  negative emotion_label  \n",
      "0         2        -2       neutral  \n",
      "1         2        -4      negative  \n",
      "2         1        -3      negative  \n",
      "3         3        -1      positive  \n",
      "4         3        -5      negative  \n",
      "5         4        -1      positive  \n",
      "6         3        -2      positive  \n",
      "7         1        -5      negative  \n",
      "8         3        -1      positive  \n",
      "9         1        -2      negative  \n"
     ]
    }
   ],
   "source": [
    "data_path = \"./data/processed_data_after_manual.xlsx\"\n",
    "data = pd.read_excel(data_path, sheet_name = \"processed\")\n",
    "view_data(data)"
   ]
  },
  {
   "cell_type": "code",
   "execution_count": 11,
   "id": "5709aabd-571e-40d5-af45-12a411afe149",
   "metadata": {},
   "outputs": [],
   "source": [
    "# the tokenizer tool, converting the stream of words into tokens\n",
    "tokenizer = TweetTokenizer(preserve_case=False, reduce_len=False)  # reduce_len: \"sooooo\" -> \"so\""
   ]
  },
  {
   "cell_type": "markdown",
   "id": "c3abef4e-1d6f-4462-94dc-98c9c1f06903",
   "metadata": {},
   "source": [
    "### Remove some of stop words from the app reviews."
   ]
  },
  {
   "cell_type": "code",
   "execution_count": 12,
   "id": "ffc2a7c6-ff21-44b4-93e7-ae0da363455a",
   "metadata": {},
   "outputs": [
    {
     "name": "stdout",
     "output_type": "stream",
     "text": [
      "The shape of data:  (5289, 7)\n",
      "The first 10 rows: \n",
      "    manual_index                                            content  length  \\\n",
      "0         63864  ver 12.14.1, delete all data menu not function...      23   \n",
      "1         37176  used to be good. too many pop ups, ads article...      13   \n",
      "2         40583  i couldn't even sign up i contacted fliphelp n...      12   \n",
      "3         18714  for what i know about this app and it works re...      19   \n",
      "4         47785  love the app, though on occasions what is play...      95   \n",
      "5         55017  one of the best ways to store your pictures an...      21   \n",
      "6         32254  x formally twitter is a good place to chat abo...      25   \n",
      "7         51699  this application is organized for only showing...      23   \n",
      "8          4886  everything is good but whatapp please update y...       9   \n",
      "9          2210  i enabled two factor authentication in faceboo...      18   \n",
      "\n",
      "   positive  negative emotion_label  \\\n",
      "0         2        -2       neutral   \n",
      "1         2        -4      negative   \n",
      "2         1        -3      negative   \n",
      "3         3        -1      positive   \n",
      "4         3        -5      negative   \n",
      "5         4        -1      positive   \n",
      "6         3        -2      positive   \n",
      "7         1        -5      negative   \n",
      "8         3        -1      positive   \n",
      "9         1        -2      negative   \n",
      "\n",
      "                                     some_stop_words  \n",
      "0  ver 12.14 . 1 , delete all data menu not funct...  \n",
      "1  used good . too many pop ups , ads articles do...  \n",
      "2  couldn't even sign up contacted fliphelp no ma...  \n",
      "3  what know app works really good . find out exa...  \n",
      "4  love app , though occasions what played not so...  \n",
      "5  one best ways store pictures important documen...  \n",
      "6  x formally twitter good place chat random thin...  \n",
      "7  application organized only showing advertiseme...  \n",
      "8  everything good but whatapp please update emoji's  \n",
      "9  enabled two factor authentication facebook now...  \n"
     ]
    }
   ],
   "source": [
    "custom_stop_words = {   \n",
    "                     'be', 'am', 'is', 'are', 'was', 'were', 'being', 'been', \n",
    "                     'i', 'me', 'we', 'my', 'mine', 'our', 'us', 'ours', 'you', 'your', 'yours', 'he', 'she', 'hers', 'they', 'him', 'her', 'them', 'his', 'its', 'it',\n",
    "                     'myself', 'yourself', 'itself', 'herself', 'himself',\n",
    "                     'i\\'m', 'you\\'re', 'it\\'s', 'he\\'s', 'she\\'s',\n",
    "                     'their', 'theirs', 'this', 'that', 'these', 'those',\n",
    "                     'have', 'has', 'had',\n",
    "                     'here', 'there',\n",
    "                     'the', 'a', 'an', 'and', 'because', 'do', 'does', 'did',\n",
    "                     'at', 'by', 'for', 'of', 'to', 'with', 'during', 'including', 'in', 'on', 'about', 'between', 'into', 'through', 'as'\n",
    "                    }\n",
    "\n",
    "processed_data = []\n",
    "for review in data[\"content\"]:\n",
    "    tokens = tokenizer.tokenize(review)  # TweetTokenizer\n",
    "    filtered_words = [word for word in tokens if word not in custom_stop_words]  # drop some of stop words\n",
    "    processed_text = ' '.join(filtered_words)  # combine these filtered tokens\n",
    "    processed_data.append(processed_text)  # one review was finished\n",
    "\n",
    "data[\"some_stop_words\"] = processed_data  # conserve the processed data\n",
    "view_data(data)"
   ]
  },
  {
   "cell_type": "markdown",
   "id": "89bf0de8-e738-42cd-a0a3-5c9d434b73c6",
   "metadata": {},
   "source": [
    "### Perform stemming on the reviews."
   ]
  },
  {
   "cell_type": "code",
   "execution_count": 13,
   "id": "5de8875a-153c-4f92-b9d3-992aecc8545d",
   "metadata": {},
   "outputs": [
    {
     "name": "stdout",
     "output_type": "stream",
     "text": [
      "The shape of data:  (5289, 8)\n",
      "The first 10 rows: \n",
      "    manual_index                                            content  length  \\\n",
      "0         63864  ver 12.14.1, delete all data menu not function...      23   \n",
      "1         37176  used to be good. too many pop ups, ads article...      13   \n",
      "2         40583  i couldn't even sign up i contacted fliphelp n...      12   \n",
      "3         18714  for what i know about this app and it works re...      19   \n",
      "4         47785  love the app, though on occasions what is play...      95   \n",
      "5         55017  one of the best ways to store your pictures an...      21   \n",
      "6         32254  x formally twitter is a good place to chat abo...      25   \n",
      "7         51699  this application is organized for only showing...      23   \n",
      "8          4886  everything is good but whatapp please update y...       9   \n",
      "9          2210  i enabled two factor authentication in faceboo...      18   \n",
      "\n",
      "   positive  negative emotion_label  \\\n",
      "0         2        -2       neutral   \n",
      "1         2        -4      negative   \n",
      "2         1        -3      negative   \n",
      "3         3        -1      positive   \n",
      "4         3        -5      negative   \n",
      "5         4        -1      positive   \n",
      "6         3        -2      positive   \n",
      "7         1        -5      negative   \n",
      "8         3        -1      positive   \n",
      "9         1        -2      negative   \n",
      "\n",
      "                                     some_stop_words  \\\n",
      "0  ver 12.14 . 1 , delete all data menu not funct...   \n",
      "1  used good . too many pop ups , ads articles do...   \n",
      "2  couldn't even sign up contacted fliphelp no ma...   \n",
      "3  what know app works really good . find out exa...   \n",
      "4  love app , though occasions what played not so...   \n",
      "5  one best ways store pictures important documen...   \n",
      "6  x formally twitter good place chat random thin...   \n",
      "7  application organized only showing advertiseme...   \n",
      "8  everything good but whatapp please update emoji's   \n",
      "9  enabled two factor authentication facebook now...   \n",
      "\n",
      "                                                stem  \n",
      "0  ver 12.14 . 1 , delet all data menu not functi...  \n",
      "1  use to be good . too mani pop up , ad articl d...  \n",
      "2  i couldn't even sign up i contact fliphelp no ...  \n",
      "3  for what i know about thi app and it work real...  \n",
      "4  love the app , though on occas what is play is...  \n",
      "5  one of the best way to store your pictur and i...  \n",
      "6  x formal twitter is a good place to chat about...  \n",
      "7  thi applic is organ for onli show advertis for...  \n",
      "8  everyth is good but whatapp pleas updat your e...  \n",
      "9  i enabl two factor authent in facebook and now...  \n"
     ]
    }
   ],
   "source": [
    "stemmer = PorterStemmer()  # the initialized instance for \"PorterStemmer()\"\n",
    "\n",
    "processed_data = []\n",
    "for review in data[\"content\"]:\n",
    "    tokens = tokenizer.tokenize(review)  # TweetTokenizer\n",
    "    stemmed_words = [stemmer.stem(word) for word in tokens]  # perform the stemming operation for each token\n",
    "    processed_text = ' '.join(stemmed_words)  # combine these filtered tokens\n",
    "    processed_data.append(processed_text)  # one review was finished\n",
    "\n",
    "data[\"stem\"] = processed_data  # conserve the processed data\n",
    "view_data(data)"
   ]
  },
  {
   "cell_type": "markdown",
   "id": "c40249e8-3626-4a7a-b888-e9f2108fb41a",
   "metadata": {},
   "source": [
    "### Perform lemmatization on the reviews."
   ]
  },
  {
   "cell_type": "code",
   "execution_count": 14,
   "id": "60a90ca2-e738-4ec1-9802-043d10042fd3",
   "metadata": {},
   "outputs": [
    {
     "name": "stdout",
     "output_type": "stream",
     "text": [
      "The shape of data:  (5289, 9)\n",
      "The first 10 rows: \n",
      "    manual_index                                            content  length  \\\n",
      "0         63864  ver 12.14.1, delete all data menu not function...      23   \n",
      "1         37176  used to be good. too many pop ups, ads article...      13   \n",
      "2         40583  i couldn't even sign up i contacted fliphelp n...      12   \n",
      "3         18714  for what i know about this app and it works re...      19   \n",
      "4         47785  love the app, though on occasions what is play...      95   \n",
      "5         55017  one of the best ways to store your pictures an...      21   \n",
      "6         32254  x formally twitter is a good place to chat abo...      25   \n",
      "7         51699  this application is organized for only showing...      23   \n",
      "8          4886  everything is good but whatapp please update y...       9   \n",
      "9          2210  i enabled two factor authentication in faceboo...      18   \n",
      "\n",
      "   positive  negative emotion_label  \\\n",
      "0         2        -2       neutral   \n",
      "1         2        -4      negative   \n",
      "2         1        -3      negative   \n",
      "3         3        -1      positive   \n",
      "4         3        -5      negative   \n",
      "5         4        -1      positive   \n",
      "6         3        -2      positive   \n",
      "7         1        -5      negative   \n",
      "8         3        -1      positive   \n",
      "9         1        -2      negative   \n",
      "\n",
      "                                     some_stop_words  \\\n",
      "0  ver 12.14 . 1 , delete all data menu not funct...   \n",
      "1  used good . too many pop ups , ads articles do...   \n",
      "2  couldn't even sign up contacted fliphelp no ma...   \n",
      "3  what know app works really good . find out exa...   \n",
      "4  love app , though occasions what played not so...   \n",
      "5  one best ways store pictures important documen...   \n",
      "6  x formally twitter good place chat random thin...   \n",
      "7  application organized only showing advertiseme...   \n",
      "8  everything good but whatapp please update emoji's   \n",
      "9  enabled two factor authentication facebook now...   \n",
      "\n",
      "                                                stem  \\\n",
      "0  ver 12.14 . 1 , delet all data menu not functi...   \n",
      "1  use to be good . too mani pop up , ad articl d...   \n",
      "2  i couldn't even sign up i contact fliphelp no ...   \n",
      "3  for what i know about thi app and it work real...   \n",
      "4  love the app , though on occas what is play is...   \n",
      "5  one of the best way to store your pictur and i...   \n",
      "6  x formal twitter is a good place to chat about...   \n",
      "7  thi applic is organ for onli show advertis for...   \n",
      "8  everyth is good but whatapp pleas updat your e...   \n",
      "9  i enabl two factor authent in facebook and now...   \n",
      "\n",
      "                                                lemm  \n",
      "0  ver 12.14 . 1 , delete all data menu not funct...  \n",
      "1  used to be good . too many pop ups , ad articl...  \n",
      "2  i couldn't even sign up i contacted fliphelp n...  \n",
      "3  for what i know about this app and it work rea...  \n",
      "4  love the app , though on occasion what is play...  \n",
      "5  one of the best way to store your picture and ...  \n",
      "6  x formally twitter is a good place to chat abo...  \n",
      "7  this application is organized for only showing...  \n",
      "8  everything is good but whatapp please update y...  \n",
      "9  i enabled two factor authentication in faceboo...  \n"
     ]
    }
   ],
   "source": [
    "lemmatizer = WordNetLemmatizer()  # the initialized instance for \"WordNetLemmatizer()\"\n",
    "\n",
    "processed_data = []\n",
    "for review in data[\"content\"]:\n",
    "    tokens = tokenizer.tokenize(review)  # TweetTokenizer\n",
    "    lemmatized_words = [lemmatizer.lemmatize(word) for word in tokens]  # perform the lemmatization operation for each token\n",
    "    processed_text = ' '.join(lemmatized_words)  # combine these filtered tokens\n",
    "    processed_data.append(processed_text)  # one review was finished\n",
    "\n",
    "data[\"lemm\"] = processed_data  # conserve the processed data\n",
    "view_data(data)"
   ]
  },
  {
   "cell_type": "markdown",
   "id": "01dc7b5d-b88a-4ea9-824d-57a06a792335",
   "metadata": {},
   "source": [
    "### Remove all stop words from the app reviews."
   ]
  },
  {
   "cell_type": "code",
   "execution_count": 15,
   "id": "e9235a9f-a78b-4750-bc59-8b006d8f861d",
   "metadata": {},
   "outputs": [
    {
     "name": "stdout",
     "output_type": "stream",
     "text": [
      "The shape of data:  (5289, 10)\n",
      "The first 10 rows: \n",
      "    manual_index                                            content  length  \\\n",
      "0         63864  ver 12.14.1, delete all data menu not function...      23   \n",
      "1         37176  used to be good. too many pop ups, ads article...      13   \n",
      "2         40583  i couldn't even sign up i contacted fliphelp n...      12   \n",
      "3         18714  for what i know about this app and it works re...      19   \n",
      "4         47785  love the app, though on occasions what is play...      95   \n",
      "5         55017  one of the best ways to store your pictures an...      21   \n",
      "6         32254  x formally twitter is a good place to chat abo...      25   \n",
      "7         51699  this application is organized for only showing...      23   \n",
      "8          4886  everything is good but whatapp please update y...       9   \n",
      "9          2210  i enabled two factor authentication in faceboo...      18   \n",
      "\n",
      "   positive  negative emotion_label  \\\n",
      "0         2        -2       neutral   \n",
      "1         2        -4      negative   \n",
      "2         1        -3      negative   \n",
      "3         3        -1      positive   \n",
      "4         3        -5      negative   \n",
      "5         4        -1      positive   \n",
      "6         3        -2      positive   \n",
      "7         1        -5      negative   \n",
      "8         3        -1      positive   \n",
      "9         1        -2      negative   \n",
      "\n",
      "                                     some_stop_words  \\\n",
      "0  ver 12.14 . 1 , delete all data menu not funct...   \n",
      "1  used good . too many pop ups , ads articles do...   \n",
      "2  couldn't even sign up contacted fliphelp no ma...   \n",
      "3  what know app works really good . find out exa...   \n",
      "4  love app , though occasions what played not so...   \n",
      "5  one best ways store pictures important documen...   \n",
      "6  x formally twitter good place chat random thin...   \n",
      "7  application organized only showing advertiseme...   \n",
      "8  everything good but whatapp please update emoji's   \n",
      "9  enabled two factor authentication facebook now...   \n",
      "\n",
      "                                                stem  \\\n",
      "0  ver 12.14 . 1 , delet all data menu not functi...   \n",
      "1  use to be good . too mani pop up , ad articl d...   \n",
      "2  i couldn't even sign up i contact fliphelp no ...   \n",
      "3  for what i know about thi app and it work real...   \n",
      "4  love the app , though on occas what is play is...   \n",
      "5  one of the best way to store your pictur and i...   \n",
      "6  x formal twitter is a good place to chat about...   \n",
      "7  thi applic is organ for onli show advertis for...   \n",
      "8  everyth is good but whatapp pleas updat your e...   \n",
      "9  i enabl two factor authent in facebook and now...   \n",
      "\n",
      "                                                lemm  \\\n",
      "0  ver 12.14 . 1 , delete all data menu not funct...   \n",
      "1  used to be good . too many pop ups , ad articl...   \n",
      "2  i couldn't even sign up i contacted fliphelp n...   \n",
      "3  for what i know about this app and it work rea...   \n",
      "4  love the app , though on occasion what is play...   \n",
      "5  one of the best way to store your picture and ...   \n",
      "6  x formally twitter is a good place to chat abo...   \n",
      "7  this application is organized for only showing...   \n",
      "8  everything is good but whatapp please update y...   \n",
      "9  i enabled two factor authentication in faceboo...   \n",
      "\n",
      "                                      all_stop_words  \n",
      "0  ver 12.14 . 1 , delete data menu function . da...  \n",
      "1  used good . many pop ups , ads articles load a...  \n",
      "2             even sign contacted fliphelp mail till  \n",
      "3  know app works really good . find exactly looking  \n",
      "4  love app , though occasions played something i...  \n",
      "5  one best ways store pictures important documen...  \n",
      "6  x formally twitter good place chat random thin...  \n",
      "7  application organized showing advertisement be...  \n",
      "8      everything good whatapp please update emoji's  \n",
      "9  enabled two factor authentication facebook can...  \n"
     ]
    }
   ],
   "source": [
    "stop_words = set(stopwords.words(\"english\"))  # stop words resource from the Natural Language Toolkit (NLTK)\n",
    "\n",
    "processed_data = []\n",
    "for review in data[\"content\"]:\n",
    "    tokens = tokenizer.tokenize(review)  # TweetTokenizer\n",
    "    filtered_words = [word for word in tokens if word not in stop_words]  # drop all stop words\n",
    "    processed_text = ' '.join(filtered_words)  # combine these filtered tokens\n",
    "    processed_data.append(processed_text)  # one review was finished\n",
    "\n",
    "data[\"all_stop_words\"] = processed_data  # conserve the processed data\n",
    "view_data(data)"
   ]
  },
  {
   "cell_type": "markdown",
   "id": "0b70b755-976a-477e-bddd-fa9a4b78163b",
   "metadata": {},
   "source": [
    "### Assemble these approaches."
   ]
  },
  {
   "cell_type": "code",
   "execution_count": 16,
   "id": "c2a5e63e-29f5-4332-b411-ffdb2e327e5c",
   "metadata": {},
   "outputs": [],
   "source": [
    "# processed_data = []\n",
    "# for review in data[\"content\"]:\n",
    "#     tokens = tokenizer.tokenize(review)\n",
    "#     filtered_words = [word for word in tokens if word not in custom_stop_words]  # drop some of stop words\n",
    "#     stemmed_words = [stemmer.stem(word) for word in filtered_words]  # stem\n",
    "#     lemmatized_words = [lemmatizer.lemmatize(word) for word in stemmed_words]  # lemm\n",
    "#     processed_text = ' '.join(filtered_words)\n",
    "#     processed_data.append(processed_text)\n",
    "\n",
    "# data[\"power_combine\"] = processed_data\n",
    "# view_data(data)"
   ]
  },
  {
   "cell_type": "code",
   "execution_count": 17,
   "id": "2d76954f-d23e-4326-83f2-18685d077619",
   "metadata": {},
   "outputs": [],
   "source": [
    "data.to_excel(\"./data/processed_data_after_manual.xlsx\", index = False, sheet_name = \"processed\")  # need \"pip install openpy\" command in the terminal"
   ]
  },
  {
   "cell_type": "markdown",
   "id": "ad5a0f57-ee65-4ce9-a05c-3f549ef8f460",
   "metadata": {},
   "source": [
    "### Data Augmentation."
   ]
  },
  {
   "cell_type": "code",
   "execution_count": 18,
   "id": "c6098754-ffeb-4b36-80e0-f9dda59cf308",
   "metadata": {},
   "outputs": [],
   "source": [
    "def synonym_replacement(word):\n",
    "    synonyms = set()  # null set\n",
    "    for syn in wordnet.synsets(word):  # one word probably had different meanings (different synonym sets)\n",
    "        for lemma in syn.lemmas():  # using lemmas() to catch every element (word or phrase) for each synonym set\n",
    "            synonyms.add(lemma.name().replace('_', ' '))  # replace() for phrase: \"ice_cream\" -> \"ice cream\"\n",
    "\n",
    "    if len(synonyms) > 0:  # if the synonym existed, randomly return one\n",
    "        return random.choice(list(synonyms))\n",
    "    else:\n",
    "        return word  # if the synonym did not exist, just return the original word\n",
    "\n",
    "\n",
    "def is_word_eligible(word):\n",
    "    # avoiding errors caused by encountering numbers and special characters\n",
    "    return word.isalpha()\n",
    "\n",
    "\n",
    "def augment_sentence_with_synonym(sentence):\n",
    "    words = sentence.split()\n",
    "\n",
    "    eligible_words = [word for word in words if is_word_eligible(word)]  # ignore numbers and special characters\n",
    "    if not eligible_words:  # if no word met the criteria, return the original sentence directly\n",
    "        return sentence\n",
    "        \n",
    "    random_word = random.choice(eligible_words)  # randomly select one word\n",
    "    new_word = synonym_replacement(random_word)  # find the synonym of this word\n",
    "    \n",
    "    # replace that selected word in the original sentence\n",
    "    new_words = [new_word if word == random_word else word for word in words]\n",
    "    new_sentence = ' '.join(new_words)  # combine these separate words into one whole sentence\n",
    "    \n",
    "    return new_sentence"
   ]
  },
  {
   "cell_type": "code",
   "execution_count": 19,
   "id": "87788f03-fe3d-46ee-be82-8e7eccfd3d5c",
   "metadata": {},
   "outputs": [
    {
     "name": "stdout",
     "output_type": "stream",
     "text": [
      "The shape of data:  (3313, 6)\n",
      "The first 10 rows: \n",
      "     manual_index                                            content  length  \\\n",
      "0          63864  ver 12.14.1, delete all information menu not f...      23   \n",
      "1          37176  put-upon to be good. too many pop ups, ads art...      13   \n",
      "2          40583  i couldn't even sign up i get hold of fliphelp...      12   \n",
      "3          18714  for what i know about this app and it works re...      19   \n",
      "4          47785  love the app, though on occasions what is play...      95   \n",
      "6          32254  x formally twitter is a good place to chat abo...      25   \n",
      "9           2210  i enabled two factor authentication in faceboo...      18   \n",
      "10         52600  why did u auto enabled ai data sharing feature...      11   \n",
      "12         60070  line please bring back posts feature where you...      27   \n",
      "13         20689        good app,, all options are hand to make ppt       9   \n",
      "\n",
      "    positive  negative emotion_label  \n",
      "0          2        -2       neutral  \n",
      "1          2        -4      negative  \n",
      "2          1        -3      negative  \n",
      "3          3        -1      positive  \n",
      "4          3        -5      negative  \n",
      "6          3        -2      positive  \n",
      "9          1        -2      negative  \n",
      "10         1        -3      negative  \n",
      "12         2        -5      negative  \n",
      "13         2        -1      positive  \n",
      "The shape of data:  (8602, 6)\n",
      "The first 10 rows: \n",
      "    manual_index                                            content  length  \\\n",
      "0         63864  ver 12.14.1, delete all data menu not function...      23   \n",
      "1         37176  used to be good. too many pop ups, ads article...      13   \n",
      "2         40583  i couldn't even sign up i contacted fliphelp n...      12   \n",
      "3         18714  for what i know about this app and it works re...      19   \n",
      "4         47785  love the app, though on occasions what is play...      95   \n",
      "5         55017  one of the best ways to store your pictures an...      21   \n",
      "6         32254  x formally twitter is a good place to chat abo...      25   \n",
      "7         51699  this application is organized for only showing...      23   \n",
      "8          4886  everything is good but whatapp please update y...       9   \n",
      "9          2210  i enabled two factor authentication in faceboo...      18   \n",
      "\n",
      "   positive  negative emotion_label  \n",
      "0         2        -2       neutral  \n",
      "1         2        -4      negative  \n",
      "2         1        -3      negative  \n",
      "3         3        -1      positive  \n",
      "4         3        -5      negative  \n",
      "5         4        -1      positive  \n",
      "6         3        -2      positive  \n",
      "7         1        -5      negative  \n",
      "8         3        -1      positive  \n",
      "9         1        -2      negative  \n"
     ]
    }
   ],
   "source": [
    "data_path = \"./data/processed_data_after_manual.xlsx\"\n",
    "data = pd.read_excel(data_path, sheet_name = \"processed\")\n",
    "data.drop([\"some_stop_words\", \"stem\", \"lemm\", \"all_stop_words\"], axis=1, inplace=True)  # prepare for the new sheet\n",
    "\n",
    "augmented_data = []  # conserve the augmented data\n",
    "for index, row in data.iterrows():\n",
    "    sentence = row[\"content\"]  # obtain the sentence intended for the augmentation\n",
    "    augmented_sentence = augment_sentence_with_synonym(sentence)  # Data Augmentation Operation\n",
    "    if augmented_sentence != sentence:  # successful argumentation\n",
    "        new_row = row.copy()  # the copied Series Object for the original data (with emotion scores and labels)\n",
    "        new_row[\"content\"] = augmented_sentence  # replace the review content in that copied data\n",
    "        augmented_data.append(new_row)\n",
    "\n",
    "augmented_data = pd.DataFrame(augmented_data)\n",
    "view_data(augmented_data)  # HOW MANY augmentation reviews were created?\n",
    "\n",
    "combined_data = pd.concat([data, augmented_data])  # combine the original reviews with the augmentation reviews\n",
    "view_data(combined_data)\n",
    "\n",
    "output_path = \"./data/processed_data_after_manual.xlsx\"\n",
    "with pd.ExcelWriter(output_path, engine=\"openpyxl\", mode=\"a\") as writer:\n",
    "    combined_data.to_excel(writer, sheet_name = \"augmentation\", index=False)  # new sheet at the same file address"
   ]
  },
  {
   "cell_type": "code",
   "execution_count": 20,
   "id": "b2984bed-32c1-4b01-a174-79cf786b001a",
   "metadata": {},
   "outputs": [
    {
     "data": {
      "image/png": "[encoded data removed]",
      "text/plain": [
       "<Figure size 800x600 with 1 Axes>"
      ]
     },
     "metadata": {},
     "output_type": "display_data"
    }
   ],
   "source": [
    "# draw the bar chart to describe emotion label distribution after data augmentation\n",
    "draw_distribution(combined_data)"
   ]
  },
  {
   "cell_type": "code",
   "execution_count": null,
   "id": "423c99e6-c50c-4aa3-a0e9-7164a413ddd4",
   "metadata": {},
   "outputs": [],
   "source": []
  }
 ],
 "metadata": {
  "kernelspec": {
   "display_name": "Python 3 (ipykernel)",
   "language": "python",
   "name": "python3"
  },
  "language_info": {
   "codemirror_mode": {
    "name": "ipython",
    "version": 3
   },
   "file_extension": ".py",
   "mimetype": "text/x-python",
   "name": "python",
   "nbconvert_exporter": "python",
   "pygments_lexer": "ipython3",
   "version": "3.8.18"
  }
 },
 "nbformat": 4,
 "nbformat_minor": 5
}
